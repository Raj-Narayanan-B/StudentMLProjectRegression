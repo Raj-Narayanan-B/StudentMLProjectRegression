{
 "cells": [
  {
   "cell_type": "code",
   "execution_count": 42,
   "metadata": {},
   "outputs": [],
   "source": [
    "import dvc.api\n",
    "import dvc.repo\n",
    "import dvc.scm\n",
    "import os\n",
    "os.chdir(r\"f:\\\\iNeuron\\\\End2End\\\\ML Project - KrishNaik - Gemstone Price Prediction\\\\StudentMLProjectRegression\")"
   ]
  },
  {
   "cell_type": "code",
   "execution_count": 22,
   "metadata": {},
   "outputs": [
    {
     "data": {
      "text/plain": [
       "'f:\\\\iNeuron\\\\End2End\\\\ML Project - KrishNaik - Gemstone Price Prediction\\\\StudentMLProjectRegression'"
      ]
     },
     "execution_count": 22,
     "metadata": {},
     "output_type": "execute_result"
    }
   ],
   "source": [
    "pwd"
   ]
  },
  {
   "cell_type": "code",
   "execution_count": 46,
   "metadata": {},
   "outputs": [],
   "source": [
    "git_repo = dvc.scm.SCM(root_dir=r'F:\\iNeuron\\End2End\\ML Project - KrishNaik - Gemstone Price Prediction\\StudentMLProjectRegression')\n",
    "dvc_repo = dvc.repo.Repo(url = r'https://github.com/Raj-Narayanan-B/StudentMLProjectRegression.git',\n",
    "                         remote = 'origin')"
   ]
  },
  {
   "cell_type": "code",
   "execution_count": 61,
   "metadata": {},
   "outputs": [
    {
     "name": "stdout",
     "output_type": "stream",
     "text": [
      "3.40.1\n"
     ]
    }
   ],
   "source": [
    "!dvc --version"
   ]
  },
  {
   "cell_type": "code",
   "execution_count": 63,
   "metadata": {},
   "outputs": [],
   "source": [
    "dvc_repo._remote_config"
   ]
  },
  {
   "cell_type": "code",
   "execution_count": 65,
   "metadata": {},
   "outputs": [
    {
     "data": {
      "text/plain": [
       "{'core': {'remote': 'origin',\n",
       "  'interactive': False,\n",
       "  'no_scm': False,\n",
       "  'check_update': True,\n",
       "  'analytics': True,\n",
       "  'hardlink_lock': False,\n",
       "  'autostage': False},\n",
       " 'cache': {'protected': False, 'verify': False, 'slow_link_warning': True},\n",
       " 'remote': {'origin': {'url': 's3://dvc',\n",
       "   'endpointurl': 'https://dagshub.com/Raj-Narayanan-B/StudentMLProjectRegression.s3',\n",
       "   'access_key_id': '8af4cc66be8aec751397fd525e47ae395fa67442',\n",
       "   'secret_access_key': '8af4cc66be8aec751397fd525e47ae395fa67442',\n",
       "   'use_ssl': True,\n",
       "   'listobjects': False,\n",
       "   'verify': False}},\n",
       " 'state': {},\n",
       " 'index': {},\n",
       " 'machine': {},\n",
       " 'feature': {'machine': False},\n",
       " 'plots': {'auto_open': False},\n",
       " 'exp': {},\n",
       " 'parsing': {},\n",
       " 'hydra': {'enabled': False},\n",
       " 'studio': {'offline': False},\n",
       " 'db': {}}"
      ]
     },
     "execution_count": 65,
     "metadata": {},
     "output_type": "execute_result"
    }
   ],
   "source": [
    "# dvc_repo.config[\"remote\"][\"origin\"][\"access_key_id\"] = \"YOUR_ACCESS_KEY_ID\"\n",
    "dvc_repo.config[\"remote\"][\"origin\"][\"secret_access_key\"] = \"8af4cc66be8aec751397fd525e47ae395fa67442\"\n",
    "dvc_repo.config "
   ]
  },
  {
   "cell_type": "code",
   "execution_count": 71,
   "metadata": {},
   "outputs": [
    {
     "data": {
      "text/html": [
       "<pre style=\"white-space:pre;overflow-x:auto;line-height:normal;font-family:Menlo,'DejaVu Sans Mono',consolas,'Courier New',monospace\"></pre>\n"
      ],
      "text/plain": [
       "\u001b[?25l"
      ]
     },
     "metadata": {},
     "output_type": "display_data"
    },
    {
     "data": {
      "text/html": [
       "<pre style=\"white-space:pre;overflow-x:auto;line-height:normal;font-family:Menlo,'DejaVu Sans Mono',consolas,'Courier New',monospace\">\n",
       "\u001b[?25h</pre>\n"
      ],
      "text/plain": [
       "\n",
       "\u001b[?25h"
      ]
     },
     "metadata": {},
     "output_type": "display_data"
    },
    {
     "name": "stdout",
     "output_type": "stream",
     "text": [
      "\n",
      "To track the changes with git, run:\n",
      "\n",
      "\tgit add 'artifacts\\train_copy.csv.dvc' 'artifacts\\train.csv.dvc' 'artifacts\\data.csv.dvc' 'artifacts\\test.csv.dvc' 'artifacts\\test_copy.csv.dvc' 'loaded_model\\challenger_hyperopt_XGB_Regressor.dvc' 'artifacts\\.gitignore'\n",
      "\n",
      "To enable auto staging, run:\n",
      "\n",
      "\tdvc config core.autostage true\n"
     ]
    }
   ],
   "source": [
    "file_to_track = r\"artifacts\\test_copy.csv\"\n",
    "dvc_repo.add(file_to_track)\n",
    "git_repo.add(file_to_track+'.dvc')"
   ]
  },
  {
   "cell_type": "code",
   "execution_count": 72,
   "metadata": {},
   "outputs": [
    {
     "data": {
      "text/plain": [
       "[Stage: 'artifacts\\data.csv.dvc',\n",
       " Stage: 'artifacts\\test.csv.dvc',\n",
       " Stage: 'artifacts\\test_copy.csv.dvc',\n",
       " Stage: 'artifacts\\train.csv.dvc',\n",
       " Stage: 'artifacts\\train_copy.csv.dvc',\n",
       " Stage: 'loaded_model\\challenger_hyperopt_XGB_Regressor.dvc']"
      ]
     },
     "execution_count": 72,
     "metadata": {},
     "output_type": "execute_result"
    }
   ],
   "source": [
    "dvc_repo.commit()"
   ]
  },
  {
   "cell_type": "code",
   "execution_count": 73,
   "metadata": {},
   "outputs": [],
   "source": [
    "git_repo.commit(os.path.basename(file_to_track)+\" tracked with dvc\")"
   ]
  },
  {
   "cell_type": "code",
   "execution_count": 74,
   "metadata": {},
   "outputs": [],
   "source": [
    "git_repo.push()"
   ]
  },
  {
   "cell_type": "code",
   "execution_count": 75,
   "metadata": {},
   "outputs": [
    {
     "data": {
      "text/plain": [
       "0"
      ]
     },
     "execution_count": 75,
     "metadata": {},
     "output_type": "execute_result"
    }
   ],
   "source": [
    "dvc_repo.push()"
   ]
  },
  {
   "cell_type": "code",
   "execution_count": 78,
   "metadata": {},
   "outputs": [
    {
     "data": {
      "text/plain": [
       "{'added': ['artifacts\\\\test.csv',\n",
       "  'artifacts\\\\data.csv',\n",
       "  'artifacts\\\\test_copy.csv',\n",
       "  'artifacts\\\\train_copy.csv',\n",
       "  'artifacts\\\\train.csv'],\n",
       " 'deleted': [],\n",
       " 'modified': [],\n",
       " 'fetched': 0}"
      ]
     },
     "execution_count": 78,
     "metadata": {},
     "output_type": "execute_result"
    }
   ],
   "source": [
    "dvc_repo.pull(remote = 'origin')"
   ]
  },
  {
   "cell_type": "code",
   "execution_count": null,
   "metadata": {},
   "outputs": [],
   "source": []
  }
 ],
 "metadata": {
  "kernelspec": {
   "display_name": "Python 3",
   "language": "python",
   "name": "python3"
  },
  "language_info": {
   "codemirror_mode": {
    "name": "ipython",
    "version": 3
   },
   "file_extension": ".py",
   "mimetype": "text/x-python",
   "name": "python",
   "nbconvert_exporter": "python",
   "pygments_lexer": "ipython3",
   "version": "3.10.13"
  }
 },
 "nbformat": 4,
 "nbformat_minor": 2
}
