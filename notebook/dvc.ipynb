{
 "cells": [
  {
   "cell_type": "code",
   "execution_count": 7,
   "metadata": {},
   "outputs": [],
   "source": [
    "import dvc.api\n",
    "import dvc.repo\n",
    "import dvc.scm\n",
    "import os\n",
    "from pprint import pprint\n",
    "os.chdir(r\"f:\\\\iNeuron\\\\End2End\\\\ML Project - KrishNaik - Gemstone Price Prediction\\\\StudentMLProjectRegression\")"
   ]
  },
  {
   "cell_type": "code",
   "execution_count": 22,
   "metadata": {},
   "outputs": [
    {
     "data": {
      "text/plain": [
       "'f:\\\\iNeuron\\\\End2End\\\\ML Project - KrishNaik - Gemstone Price Prediction\\\\StudentMLProjectRegression'"
      ]
     },
     "execution_count": 22,
     "metadata": {},
     "output_type": "execute_result"
    }
   ],
   "source": [
    "pwd"
   ]
  },
  {
   "cell_type": "code",
   "execution_count": 123,
   "metadata": {},
   "outputs": [],
   "source": [
    "import scmrepo.git"
   ]
  },
  {
   "cell_type": "code",
   "execution_count": 2,
   "metadata": {},
   "outputs": [],
   "source": [
    "from scmrepo.git.credentials import Credential"
   ]
  },
  {
   "cell_type": "code",
   "execution_count": 3,
   "metadata": {},
   "outputs": [],
   "source": [
    "generated = Credential(url = 'https://github.com/Raj-Narayanan-B/StudentMLProjectRegression.git')"
   ]
  },
  {
   "cell_type": "code",
   "execution_count": 5,
   "metadata": {},
   "outputs": [
    {
     "data": {
      "text/plain": [
       "False"
      ]
     },
     "execution_count": 5,
     "metadata": {},
     "output_type": "execute_result"
    }
   ],
   "source": []
  },
  {
   "cell_type": "code",
   "execution_count": 176,
   "metadata": {},
   "outputs": [],
   "source": [
    "from git import Repo,Remote"
   ]
  },
  {
   "cell_type": "code",
   "execution_count": 173,
   "metadata": {},
   "outputs": [],
   "source": [
    "git_new_repo = Remote(repo= 'https://github.com/Raj-Narayanan-B/StudentMLProjectRegression.git',\n",
    "       name='origin')"
   ]
  },
  {
   "cell_type": "code",
   "execution_count": 177,
   "metadata": {},
   "outputs": [
    {
     "ename": "AttributeError",
     "evalue": "'str' object has no attribute 'config_reader'",
     "output_type": "error",
     "traceback": [
      "\u001b[1;31m---------------------------------------------------------------------------\u001b[0m",
      "\u001b[1;31mAttributeError\u001b[0m                            Traceback (most recent call last)",
      "Cell \u001b[1;32mIn[177], line 1\u001b[0m\n\u001b[1;32m----> 1\u001b[0m \u001b[38;5;28;01mwith\u001b[39;00m \u001b[43mgit_new_repo\u001b[49m\u001b[38;5;241;43m.\u001b[39;49m\u001b[43mconfig_writer\u001b[49m() \u001b[38;5;28;01mas\u001b[39;00m git_config:\n\u001b[0;32m      2\u001b[0m     git_config\u001b[38;5;241m.\u001b[39mset_value(\u001b[38;5;124m'\u001b[39m\u001b[38;5;124mcredential\u001b[39m\u001b[38;5;124m'\u001b[39m, \u001b[38;5;124m'\u001b[39m\u001b[38;5;124mhelper\u001b[39m\u001b[38;5;124m'\u001b[39m, \u001b[38;5;124m'\u001b[39m\u001b[38;5;124mgcm-core\u001b[39m\u001b[38;5;124m'\u001b[39m)\n",
      "File \u001b[1;32mf:\\iNeuron\\End2End\\ML Project - KrishNaik - Gemstone Price Prediction\\StudentMLProjectRegression\\student_performance\\lib\\site-packages\\git\\remote.py:580\u001b[0m, in \u001b[0;36mRemote.__getattr__\u001b[1;34m(self, attr)\u001b[0m\n\u001b[0;32m    577\u001b[0m \u001b[38;5;66;03m# Sometimes, probably due to a bug in Python itself, we are being called\u001b[39;00m\n\u001b[0;32m    578\u001b[0m \u001b[38;5;66;03m# even though a slot of the same name exists.\u001b[39;00m\n\u001b[0;32m    579\u001b[0m \u001b[38;5;28;01mtry\u001b[39;00m:\n\u001b[1;32m--> 580\u001b[0m     \u001b[38;5;28;01mreturn\u001b[39;00m \u001b[38;5;28;43mself\u001b[39;49m\u001b[38;5;241;43m.\u001b[39;49m\u001b[43m_config_reader\u001b[49m\u001b[38;5;241m.\u001b[39mget(attr)\n\u001b[0;32m    581\u001b[0m \u001b[38;5;28;01mexcept\u001b[39;00m cp\u001b[38;5;241m.\u001b[39mNoOptionError:\n\u001b[0;32m    582\u001b[0m     \u001b[38;5;28;01mreturn\u001b[39;00m \u001b[38;5;28msuper\u001b[39m()\u001b[38;5;241m.\u001b[39m\u001b[38;5;21m__getattr__\u001b[39m(attr)\n",
      "File \u001b[1;32mf:\\iNeuron\\End2End\\ML Project - KrishNaik - Gemstone Price Prediction\\StudentMLProjectRegression\\student_performance\\lib\\site-packages\\git\\remote.py:575\u001b[0m, in \u001b[0;36mRemote.__getattr__\u001b[1;34m(self, attr)\u001b[0m\n\u001b[0;32m    572\u001b[0m \u001b[38;5;250m\u001b[39m\u001b[38;5;124;03m\"\"\"Allows to call this instance like\u001b[39;00m\n\u001b[0;32m    573\u001b[0m \u001b[38;5;124;03mremote.special( \\\\*args, \\\\*\\\\*kwargs) to call git-remote special self.name.\"\"\"\u001b[39;00m\n\u001b[0;32m    574\u001b[0m \u001b[38;5;28;01mif\u001b[39;00m attr \u001b[38;5;241m==\u001b[39m \u001b[38;5;124m\"\u001b[39m\u001b[38;5;124m_config_reader\u001b[39m\u001b[38;5;124m\"\u001b[39m:\n\u001b[1;32m--> 575\u001b[0m     \u001b[38;5;28;01mreturn\u001b[39;00m \u001b[38;5;28;43msuper\u001b[39;49m\u001b[43m(\u001b[49m\u001b[43m)\u001b[49m\u001b[38;5;241;43m.\u001b[39;49m\u001b[38;5;21;43m__getattr__\u001b[39;49m\u001b[43m(\u001b[49m\u001b[43mattr\u001b[49m\u001b[43m)\u001b[49m\n\u001b[0;32m    577\u001b[0m \u001b[38;5;66;03m# Sometimes, probably due to a bug in Python itself, we are being called\u001b[39;00m\n\u001b[0;32m    578\u001b[0m \u001b[38;5;66;03m# even though a slot of the same name exists.\u001b[39;00m\n\u001b[0;32m    579\u001b[0m \u001b[38;5;28;01mtry\u001b[39;00m:\n",
      "File \u001b[1;32mf:\\iNeuron\\End2End\\ML Project - KrishNaik - Gemstone Price Prediction\\StudentMLProjectRegression\\student_performance\\lib\\site-packages\\gitdb\\util.py:253\u001b[0m, in \u001b[0;36mLazyMixin.__getattr__\u001b[1;34m(self, attr)\u001b[0m\n\u001b[0;32m    248\u001b[0m \u001b[38;5;28;01mdef\u001b[39;00m \u001b[38;5;21m__getattr__\u001b[39m(\u001b[38;5;28mself\u001b[39m, attr):\n\u001b[0;32m    249\u001b[0m \u001b[38;5;250m    \u001b[39m\u001b[38;5;124;03m\"\"\"\u001b[39;00m\n\u001b[0;32m    250\u001b[0m \u001b[38;5;124;03m    Whenever an attribute is requested that we do not know, we allow it\u001b[39;00m\n\u001b[0;32m    251\u001b[0m \u001b[38;5;124;03m    to be created and set. Next time the same attribute is requested, it is simply\u001b[39;00m\n\u001b[0;32m    252\u001b[0m \u001b[38;5;124;03m    returned from our dict/slots. \"\"\"\u001b[39;00m\n\u001b[1;32m--> 253\u001b[0m     \u001b[38;5;28;43mself\u001b[39;49m\u001b[38;5;241;43m.\u001b[39;49m\u001b[43m_set_cache_\u001b[49m\u001b[43m(\u001b[49m\u001b[43mattr\u001b[49m\u001b[43m)\u001b[49m\n\u001b[0;32m    254\u001b[0m     \u001b[38;5;66;03m# will raise in case the cache was not created\u001b[39;00m\n\u001b[0;32m    255\u001b[0m     \u001b[38;5;28;01mreturn\u001b[39;00m \u001b[38;5;28mobject\u001b[39m\u001b[38;5;241m.\u001b[39m\u001b[38;5;21m__getattribute__\u001b[39m(\u001b[38;5;28mself\u001b[39m, attr)\n",
      "File \u001b[1;32mf:\\iNeuron\\End2End\\ML Project - KrishNaik - Gemstone Price Prediction\\StudentMLProjectRegression\\student_performance\\lib\\site-packages\\git\\remote.py:592\u001b[0m, in \u001b[0;36mRemote._set_cache_\u001b[1;34m(self, attr)\u001b[0m\n\u001b[0;32m    588\u001b[0m \u001b[38;5;28;01mdef\u001b[39;00m \u001b[38;5;21m_set_cache_\u001b[39m(\u001b[38;5;28mself\u001b[39m, attr: \u001b[38;5;28mstr\u001b[39m) \u001b[38;5;241m-\u001b[39m\u001b[38;5;241m>\u001b[39m \u001b[38;5;28;01mNone\u001b[39;00m:\n\u001b[0;32m    589\u001b[0m     \u001b[38;5;28;01mif\u001b[39;00m attr \u001b[38;5;241m==\u001b[39m \u001b[38;5;124m\"\u001b[39m\u001b[38;5;124m_config_reader\u001b[39m\u001b[38;5;124m\"\u001b[39m:\n\u001b[0;32m    590\u001b[0m         \u001b[38;5;66;03m# NOTE: This is cached as __getattr__ is overridden to return remote config\u001b[39;00m\n\u001b[0;32m    591\u001b[0m         \u001b[38;5;66;03m# values implicitly, such as in print(r.pushurl).\u001b[39;00m\n\u001b[1;32m--> 592\u001b[0m         \u001b[38;5;28mself\u001b[39m\u001b[38;5;241m.\u001b[39m_config_reader \u001b[38;5;241m=\u001b[39m SectionConstraint(\u001b[38;5;28;43mself\u001b[39;49m\u001b[38;5;241;43m.\u001b[39;49m\u001b[43mrepo\u001b[49m\u001b[38;5;241;43m.\u001b[39;49m\u001b[43mconfig_reader\u001b[49m(\u001b[38;5;124m\"\u001b[39m\u001b[38;5;124mrepository\u001b[39m\u001b[38;5;124m\"\u001b[39m), \u001b[38;5;28mself\u001b[39m\u001b[38;5;241m.\u001b[39m_config_section_name())\n\u001b[0;32m    593\u001b[0m     \u001b[38;5;28;01melse\u001b[39;00m:\n\u001b[0;32m    594\u001b[0m         \u001b[38;5;28msuper\u001b[39m()\u001b[38;5;241m.\u001b[39m_set_cache_(attr)\n",
      "\u001b[1;31mAttributeError\u001b[0m: 'str' object has no attribute 'config_reader'"
     ]
    }
   ],
   "source": [
    "with git_new_repo.config_writer() as git_config:\n",
    "    git_config.set_value('credential', 'helper', 'gcm-core')\n"
   ]
  },
  {
   "cell_type": "code",
   "execution_count": 8,
   "metadata": {},
   "outputs": [],
   "source": [
    "git_repo = dvc.scm.SCM(root_dir=r'F:\\iNeuron\\End2End\\ML Project - KrishNaik - Gemstone Price Prediction\\StudentMLProjectRegression')\n",
    "dvc_repo = dvc.repo.Repo(url = r'https://dagshub.com/Raj-Narayanan-B/StudentMLProjectRegression.s3',\n",
    "                         remote = 'origin')"
   ]
  },
  {
   "cell_type": "code",
   "execution_count": 9,
   "metadata": {},
   "outputs": [
    {
     "name": "stdout",
     "output_type": "stream",
     "text": [
      "{'cache': {'protected': False, 'slow_link_warning': True, 'verify': False},\n",
      " 'core': {'analytics': True,\n",
      "          'autostage': False,\n",
      "          'check_update': True,\n",
      "          'hardlink_lock': False,\n",
      "          'interactive': False,\n",
      "          'no_scm': False,\n",
      "          'remote': 'origin'},\n",
      " 'db': {},\n",
      " 'exp': {},\n",
      " 'feature': {'machine': False},\n",
      " 'hydra': {'enabled': False},\n",
      " 'index': {},\n",
      " 'machine': {},\n",
      " 'parsing': {},\n",
      " 'plots': {'auto_open': False},\n",
      " 'remote': {'origin': {'access_key_id': '8af4cc66be8aec751397fd525e47ae395fa67442',\n",
      "                       'endpointurl': 'https://dagshub.com/Raj-Narayanan-B/StudentMLProjectRegression.s3',\n",
      "                       'listobjects': False,\n",
      "                       'secret_access_key': '8af4cc66be8aec751397fd525e47ae395fa67442',\n",
      "                       'url': 's3://dvc',\n",
      "                       'use_ssl': True,\n",
      "                       'verify': False}},\n",
      " 'state': {},\n",
      " 'studio': {'offline': False}}\n"
     ]
    }
   ],
   "source": [
    "pprint(dvc_repo.config ,compact=True)"
   ]
  },
  {
   "cell_type": "code",
   "execution_count": null,
   "metadata": {},
   "outputs": [],
   "source": [
    "remote: 'origin'\n",
    "url: 's3://dvc'\n",
    "endpointurl: 'https://dagshub.com/Raj-Narayanan-B/StudentMLProjectRegression.s3'\n",
    "access_key_id: '8af4cc66be8aec751397fd525e47ae395fa67442'\n",
    "secret_access_key: '8af4cc66be8aec751397fd525e47ae395fa67442'"
   ]
  },
  {
   "cell_type": "code",
   "execution_count": 206,
   "metadata": {},
   "outputs": [],
   "source": [
    "from cryptography.fernet import Fernet\n",
    "import os\n",
    "import yaml\n",
    "\n",
    "# Generate or load a key for encryption and decryption\n",
    "key_file = 'dvc_secrets_key.key'\n",
    "\n",
    "if not os.path.exists(key_file):\n",
    "    key = Fernet.generate_key()\n",
    "    with open(key_file, 'wb') as key_file:\n",
    "        key_file.write(key)\n",
    "else:\n",
    "    with open(key_file, 'rb') as key_file:\n",
    "        key = key_file.read()\n",
    "\n",
    "cipher_suite = Fernet(key)\n",
    "\n",
    "# Example sensitive information\n",
    "sensitive_data = {\n",
    "    'DVC_REMOTE_NAME': 'origin',\n",
    "    'DVC_ORIGIN': 's3://dvc',\n",
    "    'DVC_ENDPOINT_URL': 'https://dagshub.com/Raj-Narayanan-B/scania_truck.s3',\n",
    "    'DVC_ACCESS_KEY_ID': '8af4cc66be8aec751397fd525e47ae395fa67442 ',\n",
    "    'DVC_SECRET_ACCESS_KEY': '8af4cc66be8aec751397fd525e47ae395fa67442 ',\n",
    "}\n",
    "\n",
    "# Encrypt sensitive information\n",
    "encrypted_data = {}\n",
    "for key, value in sensitive_data.items():\n",
    "    encrypted_data[key] = cipher_suite.encrypt(value.encode()).decode()\n",
    "\n",
    "# Save encrypted data to a configuration file\n",
    "with open('encrypted_config.yaml', 'w') as config_file:\n",
    "    yaml.dump(encrypted_data, config_file)\n",
    "\n",
    "# Load encrypted data from the configuration file\n",
    "with open('encrypted_config.yaml', 'r') as config_file:\n",
    "    loaded_data = yaml.safe_load(config_file)\n",
    "\n",
    "# Decrypt sensitive information\n",
    "decrypted_data = {}\n",
    "for key, value in loaded_data.items():\n",
    "    decrypted_data[key] = cipher_suite.decrypt(value.encode()).decode()\n",
    "\n",
    "# Now, decrypted_data contains the original sensitive information\n"
   ]
  },
  {
   "cell_type": "code",
   "execution_count": 209,
   "metadata": {},
   "outputs": [
    {
     "ename": "ImportError",
     "evalue": "cannot import name 'save_yaml' from 'src.utils' (f:\\iNeuron\\End2End\\ML Project - KrishNaik - Gemstone Price Prediction\\StudentMLProjectRegression\\src\\utils.py)",
     "output_type": "error",
     "traceback": [
      "\u001b[1;31m---------------------------------------------------------------------------\u001b[0m",
      "\u001b[1;31mImportError\u001b[0m                               Traceback (most recent call last)",
      "Cell \u001b[1;32mIn[209], line 2\u001b[0m\n\u001b[0;32m      1\u001b[0m \u001b[38;5;28;01mfrom\u001b[39;00m \u001b[38;5;21;01mpathlib\u001b[39;00m \u001b[38;5;28;01mimport\u001b[39;00m Path\n\u001b[1;32m----> 2\u001b[0m \u001b[38;5;28;01mfrom\u001b[39;00m \u001b[38;5;21;01msrc\u001b[39;00m\u001b[38;5;21;01m.\u001b[39;00m\u001b[38;5;21;01mutils\u001b[39;00m \u001b[38;5;28;01mimport\u001b[39;00m save_yaml, load_yaml\n\u001b[0;32m      3\u001b[0m \u001b[38;5;28;01mdef\u001b[39;00m \u001b[38;5;21mcrypter\u001b[39m(data_to_encrypt: \u001b[38;5;28mdict\u001b[39m \u001b[38;5;241m=\u001b[39m \u001b[38;5;28;01mNone\u001b[39;00m, data_to_decrypt: \u001b[38;5;28mdict\u001b[39m \u001b[38;5;241m=\u001b[39m \u001b[38;5;28;01mNone\u001b[39;00m, key_path: Path \u001b[38;5;241m=\u001b[39m \u001b[38;5;28;01mNone\u001b[39;00m, file_path:Path \u001b[38;5;241m=\u001b[39m \u001b[38;5;28;01mNone\u001b[39;00m):\n\u001b[0;32m      4\u001b[0m     \u001b[38;5;28;01mif\u001b[39;00m data_to_encrypt:\n\u001b[0;32m      5\u001b[0m         \u001b[38;5;66;03m# Generate the unique for this data\u001b[39;00m\n",
      "\u001b[1;31mImportError\u001b[0m: cannot import name 'save_yaml' from 'src.utils' (f:\\iNeuron\\End2End\\ML Project - KrishNaik - Gemstone Price Prediction\\StudentMLProjectRegression\\src\\utils.py)"
     ]
    }
   ],
   "source": []
  },
  {
   "cell_type": "code",
   "execution_count": 207,
   "metadata": {},
   "outputs": [
    {
     "data": {
      "text/plain": [
       "{'DVC_ACCESS_KEY_ID': 'your_access_key_id', 'DVC_ENDPOINT_URL': 'https://dagshub.com/Raj-Narayanan-B/scania_truck.s3', 'DVC_REMOTE_NAME': 'origin', 'DVC_SECRET_ACCESS_KEY': 'your_secret_access_key', 'DVC_URL': 's3://dvc'}"
      ]
     },
     "execution_count": 207,
     "metadata": {},
     "output_type": "execute_result"
    }
   ],
   "source": [
    "decrypted_data"
   ]
  },
  {
   "cell_type": "code",
   "execution_count": 194,
   "metadata": {},
   "outputs": [],
   "source": [
    "git_repo_ =dvc.scm.Git()"
   ]
  },
  {
   "cell_type": "code",
   "execution_count": 200,
   "metadata": {},
   "outputs": [
    {
     "name": "stdout",
     "output_type": "stream",
     "text": [
      "({},\n",
      " ['.github/workflows/main_gempriceprediction.yml',\n",
      "  '.github/workflows/main_gempriceprediction007.yml', 'notebook/dvc.ipynb',\n",
      "  'requirements.txt'],\n",
      " [])\n"
     ]
    }
   ],
   "source": [
    "pprint(git_repo_.status(),compact=True)"
   ]
  },
  {
   "cell_type": "code",
   "execution_count": 65,
   "metadata": {},
   "outputs": [
    {
     "data": {
      "text/plain": [
       "{'core': {'remote': 'origin',\n",
       "  'interactive': False,\n",
       "  'no_scm': False,\n",
       "  'check_update': True,\n",
       "  'analytics': True,\n",
       "  'hardlink_lock': False,\n",
       "  'autostage': False},\n",
       " 'cache': {'protected': False, 'verify': False, 'slow_link_warning': True},\n",
       " 'remote': {'origin': {'url': 's3://dvc',\n",
       "   'endpointurl': 'https://dagshub.com/Raj-Narayanan-B/StudentMLProjectRegression.s3',\n",
       "   'access_key_id': '8af4cc66be8aec751397fd525e47ae395fa67442',\n",
       "   'secret_access_key': '8af4cc66be8aec751397fd525e47ae395fa67442',\n",
       "   'use_ssl': True,\n",
       "   'listobjects': False,\n",
       "   'verify': False}},\n",
       " 'state': {},\n",
       " 'index': {},\n",
       " 'machine': {},\n",
       " 'feature': {'machine': False},\n",
       " 'plots': {'auto_open': False},\n",
       " 'exp': {},\n",
       " 'parsing': {},\n",
       " 'hydra': {'enabled': False},\n",
       " 'studio': {'offline': False},\n",
       " 'db': {}}"
      ]
     },
     "execution_count": 65,
     "metadata": {},
     "output_type": "execute_result"
    }
   ],
   "source": [
    "# dvc_repo.config[\"remote\"][\"origin\"][\"access_key_id\"] = \"YOUR_ACCESS_KEY_ID\"\n",
    "dvc_repo.config[\"remote\"][\"origin\"][\"secret_access_key\"] = \"8af4cc66be8aec751397fd525e47ae395fa67442\"\n",
    "dvc_repo.config "
   ]
  },
  {
   "cell_type": "code",
   "execution_count": 132,
   "metadata": {},
   "outputs": [
    {
     "data": {
      "text/plain": [
       "<scmrepo.git.backend.dulwich.DulwichConfig at 0x252871c9f30>"
      ]
     },
     "execution_count": 132,
     "metadata": {},
     "output_type": "execute_result"
    }
   ],
   "source": [
    "git_repo.get_config()"
   ]
  },
  {
   "cell_type": "code",
   "execution_count": 71,
   "metadata": {},
   "outputs": [
    {
     "data": {
      "text/html": [
       "<pre style=\"white-space:pre;overflow-x:auto;line-height:normal;font-family:Menlo,'DejaVu Sans Mono',consolas,'Courier New',monospace\"></pre>\n"
      ],
      "text/plain": [
       "\u001b[?25l"
      ]
     },
     "metadata": {},
     "output_type": "display_data"
    },
    {
     "data": {
      "text/html": [
       "<pre style=\"white-space:pre;overflow-x:auto;line-height:normal;font-family:Menlo,'DejaVu Sans Mono',consolas,'Courier New',monospace\">\n",
       "\u001b[?25h</pre>\n"
      ],
      "text/plain": [
       "\n",
       "\u001b[?25h"
      ]
     },
     "metadata": {},
     "output_type": "display_data"
    },
    {
     "name": "stdout",
     "output_type": "stream",
     "text": [
      "\n",
      "To track the changes with git, run:\n",
      "\n",
      "\tgit add 'artifacts\\train_copy.csv.dvc' 'artifacts\\train.csv.dvc' 'artifacts\\data.csv.dvc' 'artifacts\\test.csv.dvc' 'artifacts\\test_copy.csv.dvc' 'loaded_model\\challenger_hyperopt_XGB_Regressor.dvc' 'artifacts\\.gitignore'\n",
      "\n",
      "To enable auto staging, run:\n",
      "\n",
      "\tdvc config core.autostage true\n"
     ]
    }
   ],
   "source": [
    "file_to_track = r\"artifacts\\data_copy.csv\"\n",
    "\n",
    "dvc_repo.add(file_to_track)\n",
    "git_repo.add(file_to_track+'.dvc')"
   ]
  },
  {
   "cell_type": "code",
   "execution_count": 197,
   "metadata": {},
   "outputs": [
    {
     "data": {
      "text/plain": [
       "({}, ['.github/workflows/main_gempriceprediction.yml', '.github/workflows/main_gempriceprediction007.yml', 'notebook/dvc.ipynb', 'requirements.txt'], [])"
      ]
     },
     "execution_count": 197,
     "metadata": {},
     "output_type": "execute_result"
    }
   ],
   "source": [
    "git_repo.status()[1:][i]"
   ]
  },
  {
   "cell_type": "code",
   "execution_count": 201,
   "metadata": {},
   "outputs": [],
   "source": [
    "git_list = []\n",
    "for i in range(len(git_repo.status()[1:])):\n",
    "    for j in range(len(git_repo.status()[1:][i])):\n",
    "        git_list.append(git_repo.status()[1:][i][j])"
   ]
  },
  {
   "cell_type": "code",
   "execution_count": 202,
   "metadata": {},
   "outputs": [
    {
     "data": {
      "text/plain": [
       "['.github/workflows/main_gempriceprediction.yml', '.github/workflows/main_gempriceprediction007.yml', 'notebook/dvc.ipynb', 'requirements.txt']"
      ]
     },
     "execution_count": 202,
     "metadata": {},
     "output_type": "execute_result"
    }
   ],
   "source": [
    "git_list"
   ]
  },
  {
   "cell_type": "code",
   "execution_count": 203,
   "metadata": {},
   "outputs": [
    {
     "data": {
      "text/plain": [
       "({}, ['.github/workflows/main_gempriceprediction.yml', '.github/workflows/main_gempriceprediction007.yml', 'notebook/dvc.ipynb', 'requirements.txt'], [])"
      ]
     },
     "execution_count": 203,
     "metadata": {},
     "output_type": "execute_result"
    }
   ],
   "source": [
    "git_repo.status()"
   ]
  },
  {
   "cell_type": "code",
   "execution_count": 117,
   "metadata": {},
   "outputs": [],
   "source": [
    "git_repo.add_commit(paths = git_list,\n",
    "                    message = 'test_commit_via_add_commit')"
   ]
  },
  {
   "cell_type": "code",
   "execution_count": 72,
   "metadata": {},
   "outputs": [
    {
     "data": {
      "text/plain": [
       "[Stage: 'artifacts\\data.csv.dvc',\n",
       " Stage: 'artifacts\\test.csv.dvc',\n",
       " Stage: 'artifacts\\test_copy.csv.dvc',\n",
       " Stage: 'artifacts\\train.csv.dvc',\n",
       " Stage: 'artifacts\\train_copy.csv.dvc',\n",
       " Stage: 'loaded_model\\challenger_hyperopt_XGB_Regressor.dvc']"
      ]
     },
     "execution_count": 72,
     "metadata": {},
     "output_type": "execute_result"
    }
   ],
   "source": [
    "dvc_repo.commit()"
   ]
  },
  {
   "cell_type": "code",
   "execution_count": 73,
   "metadata": {},
   "outputs": [],
   "source": [
    "git_repo.commit(os.path.basename(file_to_track)+\" tracked with dvc\")"
   ]
  },
  {
   "cell_type": "code",
   "execution_count": 118,
   "metadata": {},
   "outputs": [],
   "source": [
    "git_repo.push()"
   ]
  },
  {
   "cell_type": "code",
   "execution_count": 75,
   "metadata": {},
   "outputs": [
    {
     "data": {
      "text/plain": [
       "0"
      ]
     },
     "execution_count": 75,
     "metadata": {},
     "output_type": "execute_result"
    }
   ],
   "source": [
    "dvc_repo.push()"
   ]
  },
  {
   "cell_type": "code",
   "execution_count": 78,
   "metadata": {},
   "outputs": [
    {
     "data": {
      "text/plain": [
       "{'added': ['artifacts\\\\test.csv',\n",
       "  'artifacts\\\\data.csv',\n",
       "  'artifacts\\\\test_copy.csv',\n",
       "  'artifacts\\\\train_copy.csv',\n",
       "  'artifacts\\\\train.csv'],\n",
       " 'deleted': [],\n",
       " 'modified': [],\n",
       " 'fetched': 0}"
      ]
     },
     "execution_count": 78,
     "metadata": {},
     "output_type": "execute_result"
    }
   ],
   "source": [
    "dvc_repo.pull(remote = 'origin')"
   ]
  },
  {
   "cell_type": "code",
   "execution_count": null,
   "metadata": {},
   "outputs": [],
   "source": []
  }
 ],
 "metadata": {
  "kernelspec": {
   "display_name": "Python 3",
   "language": "python",
   "name": "python3"
  },
  "language_info": {
   "codemirror_mode": {
    "name": "ipython",
    "version": 3
   },
   "file_extension": ".py",
   "mimetype": "text/x-python",
   "name": "python",
   "nbconvert_exporter": "python",
   "pygments_lexer": "ipython3",
   "version": "3.10.13"
  }
 },
 "nbformat": 4,
 "nbformat_minor": 2
}
